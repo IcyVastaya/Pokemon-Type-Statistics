{
 "cells": [
  {
   "cell_type": "code",
   "execution_count": 1,
   "metadata": {},
   "outputs": [
    {
     "name": "stdout",
     "output_type": "stream",
     "text": [
      "     Num        Name     Type1     Type2   HP  Atk  Def  SpAtk  SpDef  Speed\n",
      "0      1   Bulbasaur     Grass    Poison   45   49   49     65     65     45\n",
      "1      2     Ivysaur     Grass    Poison   60   62   63     80     80     60\n",
      "2      3    Venusaur     Grass    Poison   80   82   83    100    100     80\n",
      "3      4  Charmander      Fire       NaN   39   52   43     60     50     65\n",
      "4      5  Charmeleon      Fire       NaN   58   64   58     80     65     80\n",
      "5      6   Charizard      Fire    Flying   78   84   78    109     85    100\n",
      "6      7    Squirtle     Water       NaN   44   48   65     50     64     43\n",
      "7      8   Wartortle     Water       NaN   59   63   80     65     80     58\n",
      "8      9   Blastoise     Water       NaN   79   83  100     85    105     78\n",
      "9     10    Caterpie       Bug       NaN   45   30   35     20     20     45\n",
      "10    11     Metapod       Bug       NaN   50   20   55     25     25     30\n",
      "11    12  Butterfree       Bug    Flying   60   45   50     90     80     70\n",
      "12    13      Weedle       Bug    Poison   40   35   30     20     20     50\n",
      "13    14      Kakuna       Bug    Poison   45   25   50     25     25     35\n",
      "14    15    Beedrill       Bug    Poison   65   90   40     45     80     75\n",
      "15    16      Pidgey    Normal    Flying   40   45   40     35     35     56\n",
      "16    17   Pidgeotto    Normal    Flying   63   60   55     50     50     71\n",
      "17    18     Pidgeot    Normal    Flying   83   80   75     70     70    101\n",
      "18    19     Rattata    Normal       NaN   30   56   35     25     35     72\n",
      "19    20    Raticate    Normal       NaN   55   81   60     50     70     97\n",
      "20    21     Spearow    Normal    Flying   40   60   30     31     31     70\n",
      "21    22      Fearow    Normal    Flying   65   90   65     61     61    100\n",
      "22    23       Ekans    Poison       NaN   35   60   44     40     54     55\n",
      "23    24       Arbok    Poison       NaN   60   85   69     65     79     80\n",
      "24    25     Pikachu  Electric       NaN   35   55   40     50     50     90\n",
      "25    26      Raichu  Electric       NaN   60   90   55     90     80    110\n",
      "26    27   Sandshrew    Ground       NaN   50   75   85     20     30     40\n",
      "27    28   Sandslash    Ground       NaN   75  100  110     45     55     65\n",
      "28    29    NidoranF    Poison       NaN   55   47   52     40     40     41\n",
      "29    30    Nidorina    Poison       NaN   70   62   67     55     55     56\n",
      "30    31   Nidoqueen    Poison    Ground   90   92   87     75     85     76\n",
      "31    32   NidoranM‚    Poison       NaN   46   57   40     40     40     50\n",
      "32    33    Nidorino    Poison       NaN   61   72   57     55     55     65\n",
      "33    34    Nidoking    Poison    Ground   81  102   77     85     75     85\n",
      "34    35    Clefairy     Fairy       NaN   70   45   48     60     65     35\n",
      "35    36    Clefable     Fairy       NaN   95   70   73     95     90     60\n",
      "36    37      Vulpix      Fire       NaN   38   41   40     50     65     65\n",
      "37    38   Ninetales      Fire       NaN   73   76   75     81    100    100\n",
      "38    39  Jigglypuff    Normal     Fairy  115   45   20     45     25     20\n",
      "39    40  Wigglytuff    Normal     Fairy  140   70   45     85     50     45\n",
      "40    41       Zubat    Poison    Flying   40   45   35     30     40     55\n",
      "41    42      Golbat    Poison    Flying   75   80   70     65     75     90\n",
      "42    43      Oddish     Grass    Poison   45   50   55     75     65     30\n",
      "43    44       Gloom     Grass    Poison   60   65   70     85     75     40\n",
      "44    45   Vileplume     Grass    Poison   75   80   85    110     90     50\n",
      "45    46       Paras       Bug     Grass   35   70   55     45     55     25\n",
      "46    47    Parasect       Bug     Grass   60   95   80     60     80     30\n",
      "47    48     Venonat       Bug    Poison   60   55   50     40     55     45\n",
      "48    49    Venomoth       Bug    Poison   70   65   60     90     75     90\n",
      "49    50     Diglett    Ground       NaN   10   55   25     35     45     95\n",
      "50    51     Dugtrio    Ground       NaN   35   80   50     50     70    120\n",
      "51    52      Meowth    Normal       NaN   40   45   35     40     40     90\n",
      "52    53     Persian    Normal       NaN   65   70   60     65     65    115\n",
      "53    54     Psyduck     Water       NaN   50   52   48     65     50     55\n",
      "54    55     Golduck     Water       NaN   80   82   78     95     80     85\n",
      "55    56      Mankey  Fighting       NaN   40   80   35     35     45     70\n",
      "56    57    Primeape  Fighting       NaN   65  105   60     60     70     95\n",
      "57    58   Growlithe      Fire       NaN   55   70   45     70     50     60\n",
      "58    59    Arcanine      Fire       NaN   90  110   80    100     80     95\n",
      "59    60     Poliwag     Water       NaN   40   50   40     40     40     90\n",
      "60    61   Poliwhirl     Water       NaN   65   65   65     50     50     90\n",
      "61    62   Poliwrath     Water  Fighting   90   95   95     70     90     70\n",
      "62    63        Abra   Psychic       NaN   25   20   15    105     55     90\n",
      "63    64     Kadabra   Psychic       NaN   40   35   30    120     70    105\n",
      "64    65    Alakazam   Psychic       NaN   55   50   45    135     95    120\n",
      "65    66      Machop  Fighting       NaN   70   80   50     35     35     35\n",
      "66    67     Machoke  Fighting       NaN   80  100   70     50     60     45\n",
      "67    68     Machamp  Fighting       NaN   90  130   80     65     85     55\n",
      "68    69  Bellsprout     Grass    Poison   50   75   35     70     30     40\n",
      "69    70  Weepinbell     Grass    Poison   65   90   50     85     45     55\n",
      "70    71  Victreebel     Grass    Poison   80  105   65    100     70     70\n",
      "71    72   Tentacool     Water    Poison   40   40   35     50    100     70\n",
      "72    73  Tentacruel     Water    Poison   80   70   65     80    120    100\n",
      "73    74     Geodude      Rock    Ground   40   80  100     30     30     20\n",
      "74    75    Graveler      Rock    Ground   55   95  115     45     45     35\n",
      "75    76       Golem      Rock    Ground   80  120  130     55     65     45\n",
      "76    77      Ponyta      Fire       NaN   50   85   55     65     65     90\n",
      "77    78    Rapidash      Fire       NaN   65  100   70     80     80    105\n",
      "78    79    Slowpoke     Water   Psychic   90   65   65     40     40     15\n",
      "79    80     Slowbro     Water   Psychic   95   75  110    100     80     30\n",
      "80    81   Magnemite  Electric     Steel   25   35   70     95     55     45\n",
      "81    82    Magneton  Electric     Steel   50   60   95    120     70     70\n",
      "82    83  Farfetch'd    Normal    Flying   52   65   55     58     62     60\n",
      "83    84       Doduo    Normal    Flying   35   85   45     35     35     75\n",
      "84    85      Dodrio    Normal    Flying   60  110   70     60     60    100\n",
      "85    86        Seel     Water       NaN   65   45   55     45     70     45\n",
      "86    87     Dewgong     Water       Ice   90   70   80     70     95     70\n",
      "87    88      Grimer    Poison       NaN   80   80   50     40     50     25\n",
      "88    89         Muk    Poison       NaN  105  105   75     65    100     50\n",
      "89    90    Shellder     Water       NaN   30   65  100     45     25     40\n",
      "90    91    Cloyster     Water       Ice   50   95  180     85     45     70\n",
      "91    92      Gastly     Ghost    Poison   30   35   30    100     35     80\n",
      "92    93     Haunter     Ghost    Poison   45   50   45    115     55     95\n",
      "93    94      Gengar     Ghost    Poison   60   65   60    130     75    110\n",
      "94    95        Onix      Rock    Ground   35   45  160     30     45     70\n",
      "95    96     Drowzee   Psychic       NaN   60   48   45     43     90     42\n",
      "96    97       Hypno   Psychic       NaN   85   73   70     73    115     67\n",
      "97    98      Krabby     Water       NaN   30  105   90     25     25     50\n",
      "98    99     Kingler     Water       NaN   55  130  115     50     50     75\n",
      "99   100     Voltorb  Electric       NaN   40   30   50     55     55    100\n",
      "100  101   Electrode  Electric       NaN   60   50   70     80     80    140\n",
      "101  102   Exeggcute     Grass   Psychic   60   40   80     60     45     40\n",
      "102  103   Exeggutor     Grass   Psychic   95   95   85    125     65     55\n",
      "103  104      Cubone    Ground       NaN   50   50   95     40     50     35\n",
      "104  105     Marowak    Ground       NaN   60   80  110     50     80     45\n",
      "105  106   Hitmonlee  Fighting       NaN   50  120   53     35    110     87\n",
      "106  107  Hitmonchan  Fighting       NaN   50  105   79     35    110     76\n",
      "107  108   Lickitung    Normal       NaN   90   55   75     60     75     30\n",
      "108  109     Koffing    Poison       NaN   40   65   95     60     45     35\n",
      "109  110     Weezing    Poison       NaN   65   90  120     85     70     60\n",
      "110  111     Rhyhorn    Ground      Rock   80   85   95     30     30     25\n",
      "111  112      Rhydon    Ground      Rock  105  130  120     45     45     40\n",
      "112  113     Chansey    Normal       NaN  250    5    5     35    105     50\n",
      "113  114     Tangela     Grass       NaN   65   55  115    100     40     60\n",
      "114  115  Kangaskhan    Normal       NaN  105   95   80     40     80     90\n",
      "115  116      Horsea     Water       NaN   30   40   70     70     25     60\n",
      "116  117      Seadra     Water       NaN   55   65   95     95     45     85\n",
      "117  118     Goldeen     Water       NaN   45   67   60     35     50     63\n",
      "118  119     Seaking     Water       NaN   80   92   65     65     80     68\n",
      "119  120      Staryu     Water       NaN   30   45   55     70     55     85\n",
      "120  121     Starmie     Water   Psychic   60   75   85    100     85    115\n",
      "121  122    Mr. Mime   Psychic     Fairy   40   45   65    100    120     90\n",
      "122  123     Scyther       Bug    Flying   70  110   80     55     80    105\n",
      "123  124        Jynx       Ice   Psychic   65   50   35    115     95     95\n",
      "124  125  Electabuzz  Electric       NaN   65   83   57     95     85    105\n",
      "125  126      Magmar      Fire       NaN   65   95   57    100     85     93\n",
      "126  127      Pinsir       Bug       NaN   65  125  100     55     70     85\n",
      "127  128      Tauros    Normal       NaN   75  100   95     40     70    110\n",
      "128  129    Magikarp     Water       NaN   20   10   55     15     20     80\n",
      "129  130    Gyarados     Water    Flying   95  125   79     60    100     81\n",
      "130  131      Lapras     Water       Ice  130   85   80     85     95     60\n",
      "131  132       Ditto    Normal       NaN   48   48   48     48     48     48\n",
      "132  133       Eevee    Normal       NaN   55   55   50     45     65     55\n",
      "133  134    Vaporeon     Water       NaN  130   65   60    110     95     65\n",
      "134  135     Jolteon  Electric       NaN   65   65   60    110     95    130\n",
      "135  136     Flareon      Fire       NaN   65  130   60     95    110     65\n",
      "136  137     Porygon    Normal       NaN   65   60   70     85     75     40\n",
      "137  138     Omanyte      Rock     Water   35   40  100     90     55     35\n",
      "138  139     Omastar      Rock     Water   70   60  125    115     70     55\n",
      "139  140      Kabuto      Rock     Water   30   80   90     55     45     55\n",
      "140  141    Kabutops      Rock     Water   60  115  105     65     70     80\n",
      "141  142  Aerodactyl      Rock    Flying   80  105   65     60     75    130\n",
      "142  143     Snorlax    Normal       NaN  160  110   65     65    110     30\n",
      "143  144    Articuno       Ice    Flying   90   85  100     95    125     85\n",
      "144  145      Zapdos  Electric    Flying   90   90   85    125     90    100\n",
      "145  146     Moltres      Fire    Flying   90  100   90    125     85     90\n",
      "146  147     Dratini    Dragon       NaN   41   64   45     50     50     50\n",
      "147  148   Dragonair    Dragon       NaN   61   84   65     70     70     70\n",
      "148  149   Dragonite    Dragon    Flying   91  134   95    100    100     80\n",
      "149  150      Mewtwo   Psychic       NaN  106  110   90    154     90    130\n",
      "150  151         Mew   Psychic       NaN  100  100  100    100    100    100\n"
     ]
    }
   ],
   "source": [
    "import numpy as np\n",
    "import pandas as pd\n",
    "import matplotlib.pyplot as plt\n",
    "import statsmodels.formula.api as sm\n",
    "import scipy as sci\n",
    "from scipy import stats\n",
    "from statsmodels.formula.api import ols\n",
    "\n",
    "#ucitavamo dataset i ispisujemo preko print naredbe radi pregleda kolona\n",
    "df = pd.read_csv('pokemonGen1.txt')\n",
    "pd.set_option('display.max_rows', None)\n",
    "print(df)"
   ]
  },
  {
   "cell_type": "code",
   "execution_count": 2,
   "metadata": {},
   "outputs": [
    {
     "data": {
      "image/png": "[encoded data removed]",
      "text/plain": [
       "<Figure size 432x288 with 1 Axes>"
      ]
     },
     "metadata": {
      "needs_background": "light"
     },
     "output_type": "display_data"
    }
   ],
   "source": [
    "#linearna regresija (rucno izracunavanje preko formule)\n",
    "\n",
    "x = df['Atk']\n",
    "y = df['Def']\n",
    "\n",
    "n = len(x)\n",
    "\n",
    "Sxx = np.sum(x**2) - n * np.mean(x)**2\n",
    "Sxy = np.sum(x * y) - n * np.mean(x) * np.mean(y)  \n",
    "\n",
    "a = Sxy/Sxx\n",
    "b = np.mean(y) - a * np.mean(x)\n",
    "\n",
    "#funkcija linearne regresije\n",
    "linearna_regresija = b + a * x\n",
    "\n",
    "plt.plot(x, linearna_regresija,'g-',x ,y ,'r*')\n",
    "plt.xlabel('Atk')\n",
    "plt.ylabel('Def')\n",
    "plt.show()"
   ]
  },
  {
   "cell_type": "code",
   "execution_count": 3,
   "metadata": {},
   "outputs": [
    {
     "data": {
      "image/png": "[encoded data removed]",
      "text/plain": [
       "<Figure size 432x288 with 1 Axes>"
      ]
     },
     "metadata": {
      "needs_background": "light"
     },
     "output_type": "display_data"
    }
   ],
   "source": [
    "#nelinearna regresija(polinomska treceg reda)\n",
    "\n",
    "model = np.poly1d(np.polyfit(x, y, 3)) #poly1d - jednodimenzioni polinom\n",
    "\n",
    "line = np.linspace(min(x), max(x))\n",
    "\n",
    "plt.scatter(x, y)\n",
    "plt.plot(line, model(line), 'g-')\n",
    "plt.xlabel('Atk')\n",
    "plt.ylabel('Def')\n",
    "plt.show()"
   ]
  },
  {
   "cell_type": "code",
   "execution_count": 4,
   "metadata": {},
   "outputs": [
    {
     "name": "stdout",
     "output_type": "stream",
     "text": [
      "                            OLS Regression Results                            \n",
      "==============================================================================\n",
      "Dep. Variable:                     HP   R-squared:                       0.014\n",
      "Model:                            OLS   Adj. R-squared:                  0.008\n",
      "Method:                 Least Squares   F-statistic:                     2.169\n",
      "Date:                Thu, 26 Nov 2020   Prob (F-statistic):              0.143\n",
      "Time:                        19:33:29   Log-Likelihood:                -718.98\n",
      "No. Observations:                 151   AIC:                             1442.\n",
      "Df Residuals:                     149   BIC:                             1448.\n",
      "Df Model:                           1                                         \n",
      "Covariance Type:            nonrobust                                         \n",
      "==============================================================================\n",
      "                 coef    std err          t      P>|t|      [0.025      0.975]\n",
      "------------------------------------------------------------------------------\n",
      "Intercept     55.5317      6.333      8.768      0.000      43.017      68.046\n",
      "Def            0.1272      0.086      1.473      0.143      -0.043       0.298\n",
      "==============================================================================\n",
      "Omnibus:                      115.600   Durbin-Watson:                   1.750\n",
      "Prob(Omnibus):                  0.000   Jarque-Bera (JB):             1387.258\n",
      "Skew:                           2.609   Prob(JB):                    5.76e-302\n",
      "Kurtosis:                      16.902   Cond. No.                         200.\n",
      "==============================================================================\n",
      "\n",
      "Warnings:\n",
      "[1] Standard Errors assume that the covariance matrix of the errors is correctly specified.\n",
      "                            OLS Regression Results                            \n",
      "==============================================================================\n",
      "Dep. Variable:                     HP   R-squared:                       0.244\n",
      "Model:                            OLS   Adj. R-squared:                  0.234\n",
      "Method:                 Least Squares   F-statistic:                     23.85\n",
      "Date:                Thu, 26 Nov 2020   Prob (F-statistic):           1.05e-09\n",
      "Time:                        19:33:29   Log-Likelihood:                -698.98\n",
      "No. Observations:                 151   AIC:                             1404.\n",
      "Df Residuals:                     148   BIC:                             1413.\n",
      "Df Model:                           2                                         \n",
      "Covariance Type:            nonrobust                                         \n",
      "==============================================================================\n",
      "                 coef    std err          t      P>|t|      [0.025      0.975]\n",
      "------------------------------------------------------------------------------\n",
      "Intercept     22.7066      7.415      3.062      0.003       8.053      37.360\n",
      "Def            0.0553      0.077      0.722      0.472      -0.096       0.207\n",
      "SpDef          0.5715      0.085      6.700      0.000       0.403       0.740\n",
      "==============================================================================\n",
      "Omnibus:                      115.450   Durbin-Watson:                   1.399\n",
      "Prob(Omnibus):                  0.000   Jarque-Bera (JB):             1342.925\n",
      "Skew:                           2.620   Prob(JB):                    2.44e-292\n",
      "Kurtosis:                      16.638   Cond. No.                         360.\n",
      "==============================================================================\n",
      "\n",
      "Warnings:\n",
      "[1] Standard Errors assume that the covariance matrix of the errors is correctly specified.\n"
     ]
    },
    {
     "data": {
      "image/png": "[encoded data removed]",
      "text/plain": [
       "<Figure size 432x288 with 1 Axes>"
      ]
     },
     "metadata": {
      "needs_background": "light"
     },
     "output_type": "display_data"
    }
   ],
   "source": [
    "#modeli za visestruku regresiju\n",
    "\n",
    "#predikcija Heath Points u odnosu na Defense\n",
    "model1 = ols(\"HP ~ Def\", df).fit()\n",
    "print(model1.summary())\n",
    "\n",
    "#predikcija Heath Points na osnovu Defense i Special Defense\n",
    "model2 = ols(\"HP ~ Def + SpDef\", df).fit()\n",
    "print(model2.summary())\n",
    "\n",
    "df.plot('Def','HP', style = 'c*')\n",
    "plt.plot(df.Def, model1.fittedvalues)\n",
    "plt.show()"
   ]
  },
  {
   "cell_type": "code",
   "execution_count": 5,
   "metadata": {},
   "outputs": [
    {
     "name": "stdout",
     "output_type": "stream",
     "text": [
      "Water       28\n",
      "Normal      22\n",
      "Poison      14\n",
      "Fire        12\n",
      "Grass       12\n",
      "Bug         12\n",
      "Electric     9\n",
      "Rock         9\n",
      "Psychic      8\n",
      "Ground       8\n",
      "Fighting     7\n",
      "Dragon       3\n",
      "Ghost        3\n",
      "Ice          2\n",
      "Fairy        2\n",
      "Name: Type1, dtype: int64\n"
     ]
    },
    {
     "data": {
      "image/png": "[encoded data removed]",
      "text/plain": [
       "<Figure size 864x576 with 1 Axes>"
      ]
     },
     "metadata": {
      "needs_background": "light"
     },
     "output_type": "display_data"
    }
   ],
   "source": [
    "#verovatnoca da neki pokemon pripada odredjenom tipu\n",
    "\n",
    "podatak1 = df[\"Type1\"].value_counts()\n",
    "\n",
    "#broj pokemona po tipu\n",
    "print(podatak1)\n",
    "\n",
    "#sortiranje prema imenu podataka\n",
    "tip = pd.DataFrame((podatak1 / podatak1.sum()).sort_index())\n",
    "tip.columns=[\"Verovatnoca\"]\n",
    "tip.plot.bar(figsize=(12,8), fontsize=15)\n",
    "plt.show()"
   ]
  },
  {
   "cell_type": "code",
   "execution_count": 6,
   "metadata": {},
   "outputs": [
    {
     "name": "stdout",
     "output_type": "stream",
     "text": [
      "Flying      19\n",
      "Poison      19\n",
      "Psychic      6\n",
      "Ground       6\n",
      "Water        4\n",
      "Ice          3\n",
      "Fairy        3\n",
      "Grass        2\n",
      "Rock         2\n",
      "Steel        2\n",
      "Fighting     1\n",
      "Name: Type2, dtype: int64\n"
     ]
    },
    {
     "data": {
      "image/png": "[encoded data removed]",
      "text/plain": [
       "<Figure size 864x576 with 1 Axes>"
      ]
     },
     "metadata": {
      "needs_background": "light"
     },
     "output_type": "display_data"
    }
   ],
   "source": [
    "#verovatnoca da neki pokemon pripada odredjenom podtipu\n",
    "\n",
    "podatak2 = df[\"Type2\"].value_counts()\n",
    "\n",
    "#broj pokemona po podtipu\n",
    "print(podatak2)\n",
    "\n",
    "#sortiranje prema imenu podataka\n",
    "podtip = pd.DataFrame((podatak2 / podatak2.sum()).sort_index())\n",
    "podtip.columns=[\"Verovatnoca\"]\n",
    "podtip.plot.bar(figsize=(12,8), fontsize=15)\n",
    "plt.show()"
   ]
  },
  {
   "cell_type": "code",
   "execution_count": 7,
   "metadata": {},
   "outputs": [
    {
     "name": "stdout",
     "output_type": "stream",
     "text": [
      "                           HP\n",
      "Visok Health Points  0.543046\n",
      "Nizak Health Points  0.456954\n"
     ]
    },
    {
     "data": {
      "image/png": "[encoded data removed]",
      "text/plain": [
       "<Figure size 648x432 with 1 Axes>"
      ]
     },
     "metadata": {
      "needs_background": "light"
     },
     "output_type": "display_data"
    }
   ],
   "source": [
    "#verovatnoca da ce pokemon imati visok Health Points\n",
    "\n",
    "prosek = df[\"HP\"].mean()\n",
    "rezultat = (df[\"HP\"] >= prosek).value_counts()\n",
    "visok = pd.DataFrame(rezultat / rezultat.sum())\n",
    "visok.index = [\"Visok Health Points\", \"Nizak Health Points\"]\n",
    "print(visok)\n",
    "visok.plot.bar(figsize=(9,6), fontsize=15)\n",
    "plt.show()"
   ]
  },
  {
   "cell_type": "code",
   "execution_count": 8,
   "metadata": {},
   "outputs": [
    {
     "name": "stdout",
     "output_type": "stream",
     "text": [
      "Water       13\n",
      "Normal      11\n",
      "Fire         7\n",
      "Poison       7\n",
      "Grass        6\n",
      "Fighting     4\n",
      "Bug          4\n",
      "Psychic      3\n",
      "Ground       3\n",
      "Electric     3\n",
      "Rock         3\n",
      "Fairy        2\n",
      "Ice          2\n",
      "Dragon       1\n",
      "Name: Type1, dtype: int64\n"
     ]
    },
    {
     "data": {
      "image/png": "[encoded data removed]",
      "text/plain": [
       "<Figure size 864x576 with 1 Axes>"
      ]
     },
     "metadata": {
      "needs_background": "light"
     },
     "output_type": "display_data"
    }
   ],
   "source": [
    "#verovatnoca da neki pokemon pripada odredjenom tipu pod uslovom da je Health Points visok\n",
    "\n",
    "tip_hp = df.loc[df[\"HP\"] > prosek, \"Type1\"]\n",
    "print(tip_hp.value_counts())\n",
    "tip_hp_visok = pd.DataFrame((tip_hp.value_counts()/tip_hp.shape[0]).sort_index())\n",
    "tip_hp_visok.columns = [\"Verovatnoca\"]\n",
    "tip_hp_visok.columns.name = \"Health Points\"\n",
    "tip_hp_visok.plot.bar(figsize=(12,8), fontsize=15)\n",
    "plt.show()"
   ]
  },
  {
   "cell_type": "code",
   "execution_count": 9,
   "metadata": {},
   "outputs": [
    {
     "name": "stdout",
     "output_type": "stream",
     "text": [
      "Flying      11\n",
      "Poison       7\n",
      "Psychic      4\n",
      "Ground       3\n",
      "Rock         2\n",
      "Ice          2\n",
      "Fairy        2\n",
      "Water        1\n",
      "Fighting     1\n",
      "Name: Type2, dtype: int64\n"
     ]
    },
    {
     "data": {
      "image/png": "[encoded data removed]",
      "text/plain": [
       "<Figure size 864x576 with 1 Axes>"
      ]
     },
     "metadata": {
      "needs_background": "light"
     },
     "output_type": "display_data"
    }
   ],
   "source": [
    "#verovatnoca da neki pokemon pripada odredjenom podtipu pod uslovom da je Health Points visok\n",
    "\n",
    "podtip_hp = df.loc[df[\"HP\"] > prosek, \"Type2\"]\n",
    "print(podtip_hp.value_counts())\n",
    "podtip_hp_visok = pd.DataFrame((podtip_hp.value_counts() / podtip_hp.shape[0]).sort_index())\n",
    "podtip_hp_visok.columns = [\"Verovatnoca\"]\n",
    "podtip_hp_visok.columns.name = \"Health Points\"\n",
    "podtip_hp_visok.plot.bar(figsize=(12,8), fontsize=15)\n",
    "plt.show()"
   ]
  },
  {
   "cell_type": "code",
   "execution_count": 10,
   "metadata": {},
   "outputs": [
    {
     "name": "stdout",
     "output_type": "stream",
     "text": [
      "68.93377483443709\n"
     ]
    }
   ],
   "source": [
    "#matematicko ocekivanje\n",
    "\n",
    "matematicko_ocekivanje = (df[\"Speed\"]).mean()\n",
    "print(matematicko_ocekivanje)"
   ]
  },
  {
   "cell_type": "code",
   "execution_count": 11,
   "metadata": {},
   "outputs": [
    {
     "name": "stdout",
     "output_type": "stream",
     "text": [
      "26.74687991128989\n"
     ]
    }
   ],
   "source": [
    "#standardna devijacija\n",
    "\n",
    "var = (df[\"Speed\"]).std()\n",
    "print(var)"
   ]
  },
  {
   "cell_type": "code",
   "execution_count": 12,
   "metadata": {},
   "outputs": [
    {
     "name": "stdout",
     "output_type": "stream",
     "text": [
      "715.3955849889627\n"
     ]
    }
   ],
   "source": [
    "#varijansa\n",
    "\n",
    "print(var**2)\n",
    "#mogla je da se izracuna i preko .var() naredbe"
   ]
  },
  {
   "cell_type": "code",
   "execution_count": 13,
   "metadata": {},
   "outputs": [
    {
     "name": "stdout",
     "output_type": "stream",
     "text": [
      "Num      76.0\n",
      "HP       60.0\n",
      "Atk      70.0\n",
      "Def      65.0\n",
      "SpAtk    65.0\n",
      "SpDef    65.0\n",
      "Speed    70.0\n",
      "Name: 0.5, dtype: float64\n"
     ]
    }
   ],
   "source": [
    "#kvantil\n",
    "\n",
    "print(df.quantile(q=0.5, axis=0))"
   ]
  },
  {
   "cell_type": "code",
   "execution_count": 14,
   "metadata": {},
   "outputs": [
    {
     "name": "stdout",
     "output_type": "stream",
     "text": [
      "70.0\n"
     ]
    }
   ],
   "source": [
    "#medijana\n",
    "\n",
    "print(np.median(df[\"Speed\"]))"
   ]
  },
  {
   "cell_type": "code",
   "execution_count": 15,
   "metadata": {},
   "outputs": [
    {
     "name": "stdout",
     "output_type": "stream",
     "text": [
      "count    151.000000\n",
      "mean      68.933775\n",
      "std       26.746880\n",
      "min       15.000000\n",
      "25%       46.500000\n",
      "50%       70.000000\n",
      "75%       90.000000\n",
      "max      140.000000\n",
      "Name: Speed, dtype: float64\n"
     ]
    }
   ],
   "source": [
    "#racunamo karakteristicne velicine za status Speed za sve pokemone\n",
    "\n",
    "print(df[\"Speed\"].describe())"
   ]
  },
  {
   "cell_type": "code",
   "execution_count": 16,
   "metadata": {},
   "outputs": [
    {
     "data": {
      "text/html": [
       "<div>\n",
       "<style scoped>\n",
       "    .dataframe tbody tr th:only-of-type {\n",
       "        vertical-align: middle;\n",
       "    }\n",
       "\n",
       "    .dataframe tbody tr th {\n",
       "        vertical-align: top;\n",
       "    }\n",
       "\n",
       "    .dataframe thead th {\n",
       "        text-align: right;\n",
       "    }\n",
       "</style>\n",
       "<table border=\"1\" class=\"dataframe\">\n",
       "  <thead>\n",
       "    <tr style=\"text-align: right;\">\n",
       "      <th></th>\n",
       "      <th>Num</th>\n",
       "      <th>HP</th>\n",
       "      <th>Atk</th>\n",
       "      <th>Def</th>\n",
       "      <th>SpAtk</th>\n",
       "      <th>SpDef</th>\n",
       "      <th>Speed</th>\n",
       "    </tr>\n",
       "  </thead>\n",
       "  <tbody>\n",
       "    <tr>\n",
       "      <th>Num</th>\n",
       "      <td>1912.666667</td>\n",
       "      <td>255.560000</td>\n",
       "      <td>303.553333</td>\n",
       "      <td>383.620000</td>\n",
       "      <td>318.806667</td>\n",
       "      <td>269.346667</td>\n",
       "      <td>154.680000</td>\n",
       "    </tr>\n",
       "    <tr>\n",
       "      <th>HP</th>\n",
       "      <td>255.560000</td>\n",
       "      <td>817.394790</td>\n",
       "      <td>233.262737</td>\n",
       "      <td>92.178631</td>\n",
       "      <td>193.056998</td>\n",
       "      <td>339.669095</td>\n",
       "      <td>-31.305872</td>\n",
       "    </tr>\n",
       "    <tr>\n",
       "      <th>Atk</th>\n",
       "      <td>303.553333</td>\n",
       "      <td>233.262737</td>\n",
       "      <td>707.355850</td>\n",
       "      <td>352.188742</td>\n",
       "      <td>111.036380</td>\n",
       "      <td>237.522340</td>\n",
       "      <td>138.503311</td>\n",
       "    </tr>\n",
       "    <tr>\n",
       "      <th>Def</th>\n",
       "      <td>383.620000</td>\n",
       "      <td>92.178631</td>\n",
       "      <td>352.188742</td>\n",
       "      <td>724.508962</td>\n",
       "      <td>144.061810</td>\n",
       "      <td>91.128830</td>\n",
       "      <td>-38.338322</td>\n",
       "    </tr>\n",
       "    <tr>\n",
       "      <th>SpAtk</th>\n",
       "      <td>318.806667</td>\n",
       "      <td>193.056998</td>\n",
       "      <td>111.036380</td>\n",
       "      <td>144.061810</td>\n",
       "      <td>814.200530</td>\n",
       "      <td>361.050552</td>\n",
       "      <td>314.069272</td>\n",
       "    </tr>\n",
       "    <tr>\n",
       "      <th>SpDef</th>\n",
       "      <td>269.346667</td>\n",
       "      <td>339.669095</td>\n",
       "      <td>237.522340</td>\n",
       "      <td>91.128830</td>\n",
       "      <td>361.050552</td>\n",
       "      <td>585.539603</td>\n",
       "      <td>254.134658</td>\n",
       "    </tr>\n",
       "    <tr>\n",
       "      <th>Speed</th>\n",
       "      <td>154.680000</td>\n",
       "      <td>-31.305872</td>\n",
       "      <td>138.503311</td>\n",
       "      <td>-38.338322</td>\n",
       "      <td>314.069272</td>\n",
       "      <td>254.134658</td>\n",
       "      <td>715.395585</td>\n",
       "    </tr>\n",
       "  </tbody>\n",
       "</table>\n",
       "</div>"
      ],
      "text/plain": [
       "               Num          HP         Atk         Def       SpAtk  \\\n",
       "Num    1912.666667  255.560000  303.553333  383.620000  318.806667   \n",
       "HP      255.560000  817.394790  233.262737   92.178631  193.056998   \n",
       "Atk     303.553333  233.262737  707.355850  352.188742  111.036380   \n",
       "Def     383.620000   92.178631  352.188742  724.508962  144.061810   \n",
       "SpAtk   318.806667  193.056998  111.036380  144.061810  814.200530   \n",
       "SpDef   269.346667  339.669095  237.522340   91.128830  361.050552   \n",
       "Speed   154.680000  -31.305872  138.503311  -38.338322  314.069272   \n",
       "\n",
       "            SpDef       Speed  \n",
       "Num    269.346667  154.680000  \n",
       "HP     339.669095  -31.305872  \n",
       "Atk    237.522340  138.503311  \n",
       "Def     91.128830  -38.338322  \n",
       "SpAtk  361.050552  314.069272  \n",
       "SpDef  585.539603  254.134658  \n",
       "Speed  254.134658  715.395585  "
      ]
     },
     "execution_count": 16,
     "metadata": {},
     "output_type": "execute_result"
    }
   ],
   "source": [
    "#kovarijansa\n",
    "\n",
    "df.cov()"
   ]
  },
  {
   "cell_type": "code",
   "execution_count": 17,
   "metadata": {},
   "outputs": [
    {
     "data": {
      "text/html": [
       "<div>\n",
       "<style scoped>\n",
       "    .dataframe tbody tr th:only-of-type {\n",
       "        vertical-align: middle;\n",
       "    }\n",
       "\n",
       "    .dataframe tbody tr th {\n",
       "        vertical-align: top;\n",
       "    }\n",
       "\n",
       "    .dataframe thead th {\n",
       "        text-align: right;\n",
       "    }\n",
       "</style>\n",
       "<table border=\"1\" class=\"dataframe\">\n",
       "  <thead>\n",
       "    <tr style=\"text-align: right;\">\n",
       "      <th></th>\n",
       "      <th>Num</th>\n",
       "      <th>HP</th>\n",
       "      <th>Atk</th>\n",
       "      <th>Def</th>\n",
       "      <th>SpAtk</th>\n",
       "      <th>SpDef</th>\n",
       "      <th>Speed</th>\n",
       "    </tr>\n",
       "  </thead>\n",
       "  <tbody>\n",
       "    <tr>\n",
       "      <th>Num</th>\n",
       "      <td>1.000000</td>\n",
       "      <td>0.204389</td>\n",
       "      <td>0.260973</td>\n",
       "      <td>0.325882</td>\n",
       "      <td>0.255471</td>\n",
       "      <td>0.254515</td>\n",
       "      <td>0.132233</td>\n",
       "    </tr>\n",
       "    <tr>\n",
       "      <th>HP</th>\n",
       "      <td>0.204389</td>\n",
       "      <td>1.000000</td>\n",
       "      <td>0.306768</td>\n",
       "      <td>0.119782</td>\n",
       "      <td>0.236649</td>\n",
       "      <td>0.490978</td>\n",
       "      <td>-0.040939</td>\n",
       "    </tr>\n",
       "    <tr>\n",
       "      <th>Atk</th>\n",
       "      <td>0.260973</td>\n",
       "      <td>0.306768</td>\n",
       "      <td>1.000000</td>\n",
       "      <td>0.491965</td>\n",
       "      <td>0.146312</td>\n",
       "      <td>0.369069</td>\n",
       "      <td>0.194701</td>\n",
       "    </tr>\n",
       "    <tr>\n",
       "      <th>Def</th>\n",
       "      <td>0.325882</td>\n",
       "      <td>0.119782</td>\n",
       "      <td>0.491965</td>\n",
       "      <td>1.000000</td>\n",
       "      <td>0.187569</td>\n",
       "      <td>0.139912</td>\n",
       "      <td>-0.053252</td>\n",
       "    </tr>\n",
       "    <tr>\n",
       "      <th>SpAtk</th>\n",
       "      <td>0.255471</td>\n",
       "      <td>0.236649</td>\n",
       "      <td>0.146312</td>\n",
       "      <td>0.187569</td>\n",
       "      <td>1.000000</td>\n",
       "      <td>0.522907</td>\n",
       "      <td>0.411516</td>\n",
       "    </tr>\n",
       "    <tr>\n",
       "      <th>SpDef</th>\n",
       "      <td>0.254515</td>\n",
       "      <td>0.490978</td>\n",
       "      <td>0.369069</td>\n",
       "      <td>0.139912</td>\n",
       "      <td>0.522907</td>\n",
       "      <td>1.000000</td>\n",
       "      <td>0.392656</td>\n",
       "    </tr>\n",
       "    <tr>\n",
       "      <th>Speed</th>\n",
       "      <td>0.132233</td>\n",
       "      <td>-0.040939</td>\n",
       "      <td>0.194701</td>\n",
       "      <td>-0.053252</td>\n",
       "      <td>0.411516</td>\n",
       "      <td>0.392656</td>\n",
       "      <td>1.000000</td>\n",
       "    </tr>\n",
       "  </tbody>\n",
       "</table>\n",
       "</div>"
      ],
      "text/plain": [
       "            Num        HP       Atk       Def     SpAtk     SpDef     Speed\n",
       "Num    1.000000  0.204389  0.260973  0.325882  0.255471  0.254515  0.132233\n",
       "HP     0.204389  1.000000  0.306768  0.119782  0.236649  0.490978 -0.040939\n",
       "Atk    0.260973  0.306768  1.000000  0.491965  0.146312  0.369069  0.194701\n",
       "Def    0.325882  0.119782  0.491965  1.000000  0.187569  0.139912 -0.053252\n",
       "SpAtk  0.255471  0.236649  0.146312  0.187569  1.000000  0.522907  0.411516\n",
       "SpDef  0.254515  0.490978  0.369069  0.139912  0.522907  1.000000  0.392656\n",
       "Speed  0.132233 -0.040939  0.194701 -0.053252  0.411516  0.392656  1.000000"
      ]
     },
     "execution_count": 17,
     "metadata": {},
     "output_type": "execute_result"
    }
   ],
   "source": [
    "#koeficijent korelacije\n",
    "\n",
    "df.corr()"
   ]
  },
  {
   "cell_type": "code",
   "execution_count": 18,
   "metadata": {},
   "outputs": [
    {
     "name": "stdout",
     "output_type": "stream",
     "text": [
      "     SpAtk\n",
      "0       65\n",
      "1       80\n",
      "2      100\n",
      "3       60\n",
      "4       80\n",
      "5      109\n",
      "6       50\n",
      "7       65\n",
      "8       85\n",
      "9       20\n",
      "10      25\n",
      "11      90\n",
      "12      20\n",
      "13      25\n",
      "14      45\n",
      "15      35\n",
      "16      50\n",
      "17      70\n",
      "18      25\n",
      "19      50\n",
      "20      31\n",
      "21      61\n",
      "22      40\n",
      "23      65\n",
      "24      50\n",
      "25      90\n",
      "26      20\n",
      "27      45\n",
      "28      40\n",
      "29      55\n",
      "30      75\n",
      "31      40\n",
      "32      55\n",
      "33      85\n",
      "34      60\n",
      "35      95\n",
      "36      50\n",
      "37      81\n",
      "38      45\n",
      "39      85\n",
      "40      30\n",
      "41      65\n",
      "42      75\n",
      "43      85\n",
      "44     110\n",
      "45      45\n",
      "46      60\n",
      "47      40\n",
      "48      90\n",
      "49      35\n",
      "50      50\n",
      "51      40\n",
      "52      65\n",
      "53      65\n",
      "54      95\n",
      "55      35\n",
      "56      60\n",
      "57      70\n",
      "58     100\n",
      "59      40\n",
      "60      50\n",
      "61      70\n",
      "62     105\n",
      "63     120\n",
      "64     135\n",
      "65      35\n",
      "66      50\n",
      "67      65\n",
      "68      70\n",
      "69      85\n",
      "70     100\n",
      "71      50\n",
      "72      80\n",
      "73      30\n",
      "74      45\n",
      "75      55\n",
      "76      65\n",
      "77      80\n",
      "78      40\n",
      "79     100\n",
      "80      95\n",
      "81     120\n",
      "82      58\n",
      "83      35\n",
      "84      60\n",
      "85      45\n",
      "86      70\n",
      "87      40\n",
      "88      65\n",
      "89      45\n",
      "90      85\n",
      "91     100\n",
      "92     115\n",
      "93     130\n",
      "94      30\n",
      "95      43\n",
      "96      73\n",
      "97      25\n",
      "98      50\n",
      "99      55\n",
      "100     80\n",
      "101     60\n",
      "102    125\n",
      "103     40\n",
      "104     50\n",
      "105     35\n",
      "106     35\n",
      "107     60\n",
      "108     60\n",
      "109     85\n",
      "110     30\n",
      "111     45\n",
      "112     35\n",
      "113    100\n",
      "114     40\n",
      "115     70\n",
      "116     95\n",
      "117     35\n",
      "118     65\n",
      "119     70\n",
      "120    100\n",
      "121    100\n",
      "122     55\n",
      "123    115\n",
      "124     95\n",
      "125    100\n",
      "126     55\n",
      "127     40\n",
      "128     15\n",
      "129     60\n",
      "130     85\n",
      "131     48\n",
      "132     45\n",
      "133    110\n",
      "134    110\n",
      "135     95\n",
      "136     85\n",
      "137     90\n",
      "138    115\n",
      "139     55\n",
      "140     65\n",
      "141     60\n",
      "142     65\n",
      "143     95\n",
      "144    125\n",
      "145    125\n",
      "146     50\n",
      "147     70\n",
      "148    100\n",
      "149    154\n",
      "150    100\n"
     ]
    }
   ],
   "source": [
    "#estimacija varijanse i intervala poverenja\n",
    "\n",
    "atributi = ['SpAtk'] # uzimamo kolonu Special Attack\n",
    "df = pd.read_csv(\"pokemonGen1.txt\",usecols=atributi)\n",
    "pd.set_option('display.max_rows', None)\n",
    "print(df)"
   ]
  },
  {
   "cell_type": "code",
   "execution_count": 19,
   "metadata": {},
   "outputs": [
    {
     "data": {
      "text/html": [
       "<div>\n",
       "<style scoped>\n",
       "    .dataframe tbody tr th:only-of-type {\n",
       "        vertical-align: middle;\n",
       "    }\n",
       "\n",
       "    .dataframe tbody tr th {\n",
       "        vertical-align: top;\n",
       "    }\n",
       "\n",
       "    .dataframe thead th {\n",
       "        text-align: right;\n",
       "    }\n",
       "</style>\n",
       "<table border=\"1\" class=\"dataframe\">\n",
       "  <thead>\n",
       "    <tr style=\"text-align: right;\">\n",
       "      <th></th>\n",
       "      <th>SpAtk</th>\n",
       "    </tr>\n",
       "  </thead>\n",
       "  <tbody>\n",
       "    <tr>\n",
       "      <th>count</th>\n",
       "      <td>151.000000</td>\n",
       "    </tr>\n",
       "    <tr>\n",
       "      <th>mean</th>\n",
       "      <td>67.139073</td>\n",
       "    </tr>\n",
       "    <tr>\n",
       "      <th>std</th>\n",
       "      <td>28.534199</td>\n",
       "    </tr>\n",
       "    <tr>\n",
       "      <th>min</th>\n",
       "      <td>15.000000</td>\n",
       "    </tr>\n",
       "    <tr>\n",
       "      <th>25%</th>\n",
       "      <td>45.000000</td>\n",
       "    </tr>\n",
       "    <tr>\n",
       "      <th>50%</th>\n",
       "      <td>65.000000</td>\n",
       "    </tr>\n",
       "    <tr>\n",
       "      <th>75%</th>\n",
       "      <td>87.500000</td>\n",
       "    </tr>\n",
       "    <tr>\n",
       "      <th>max</th>\n",
       "      <td>154.000000</td>\n",
       "    </tr>\n",
       "  </tbody>\n",
       "</table>\n",
       "</div>"
      ],
      "text/plain": [
       "            SpAtk\n",
       "count  151.000000\n",
       "mean    67.139073\n",
       "std     28.534199\n",
       "min     15.000000\n",
       "25%     45.000000\n",
       "50%     65.000000\n",
       "75%     87.500000\n",
       "max    154.000000"
      ]
     },
     "execution_count": 19,
     "metadata": {},
     "output_type": "execute_result"
    }
   ],
   "source": [
    "#racunamo karakteristicne velicine statusa Special Attack za sve pokemone\n",
    "df.describe()"
   ]
  },
  {
   "cell_type": "code",
   "execution_count": 20,
   "metadata": {},
   "outputs": [
    {
     "data": {
      "image/png": "[encoded data removed]",
      "text/plain": [
       "<Figure size 432x288 with 1 Axes>"
      ]
     },
     "metadata": {
      "needs_background": "light"
     },
     "output_type": "display_data"
    }
   ],
   "source": [
    "#histogram\n",
    "hist = df.hist(density=True,bins=20) \n",
    "plt.show()"
   ]
  },
  {
   "cell_type": "code",
   "execution_count": 21,
   "metadata": {},
   "outputs": [
    {
     "data": {
      "text/plain": [
       "26.817282984423805"
      ]
     },
     "execution_count": 21,
     "metadata": {},
     "output_type": "execute_result"
    }
   ],
   "source": [
    "#izracunavamo strandardnu devijaciju iz uzorka\n",
    "\n",
    "uzorak=df.sample(10)\n",
    "uzorak.std()['SpAtk']"
   ]
  },
  {
   "cell_type": "code",
   "execution_count": 22,
   "metadata": {},
   "outputs": [
    {
     "data": {
      "image/png": "[encoded data removed]",
      "text/plain": [
       "<Figure size 432x288 with 1 Axes>"
      ]
     },
     "metadata": {
      "needs_background": "light"
     },
     "output_type": "display_data"
    },
    {
     "data": {
      "image/png": "[encoded data removed]",
      "text/plain": [
       "<Figure size 432x288 with 1 Axes>"
      ]
     },
     "metadata": {
      "needs_background": "light"
     },
     "output_type": "display_data"
    }
   ],
   "source": [
    "#estimacija varijanse uzimajuci samo manji uzorak iz cele populacije:\n",
    "estimatori_varijanse = []\n",
    "\n",
    "velicina_uzorka= 50\n",
    "broj_estimacija_varijansi= 25   #ovo je broj estimacija, svaki je baziran na uzorku velicine 'velicina_uzorka'\n",
    "for x in range(broj_estimacija_varijansi): #generisemo 50 samples\n",
    "    \n",
    "    uzorak=df.sample(velicina_uzorka)\n",
    "    estimatori_varijanse.append(uzorak.var()['SpAtk'])\n",
    "    \n",
    "# plotujemo estimaciju gustine verovatnoce varijansi (pomocu histograma)  \n",
    "pd.DataFrame(estimatori_varijanse).plot(kind=\"density\")   \n",
    "\n",
    "# histogram varijansi:\n",
    "hist = pd.DataFrame(estimatori_varijanse).hist(density=True,bins=7) \n",
    "plt.show()"
   ]
  },
  {
   "cell_type": "code",
   "execution_count": 23,
   "metadata": {},
   "outputs": [
    {
     "name": "stdout",
     "output_type": "stream",
     "text": [
      "799.9738775510201\n",
      "(558.2080992262635, 1242.238116725053)\n"
     ]
    }
   ],
   "source": [
    "#intervali poverenja za varijansu\n",
    "\n",
    "alpha=0.05   #nivo poverenja je 1-alpha=0.95\n",
    "\n",
    "print(estimatori_varijanse[0])  # stampamo estimiranu vrednost\n",
    "\n",
    "#kvantil odgovarajuceg reda hi kvadrat raspodele sa n-1 stepeni slobode\n",
    "Kvantil1 = stats.chi2.ppf(1-alpha/2, df=velicina_uzorka-1) \n",
    "Kvantil2 = stats.chi2.ppf(alpha/2, df=velicina_uzorka-1)\n",
    "   \n",
    "\n",
    "interval_poverenja = ((velicina_uzorka-1)*estimatori_varijanse[0]/Kvantil1, (velicina_uzorka-1)*estimatori_varijanse[0]/Kvantil2)  \n",
    "print(interval_poverenja)"
   ]
  },
  {
   "cell_type": "code",
   "execution_count": 24,
   "metadata": {},
   "outputs": [
    {
     "data": {
      "image/png": "[encoded data removed]",
      "text/plain": [
       "<Figure size 648x648 with 1 Axes>"
      ]
     },
     "metadata": {
      "needs_background": "light"
     },
     "output_type": "display_data"
    }
   ],
   "source": [
    "#crtanje svih intervala poverenja\n",
    "\n",
    "intervali_poverenja=[]\n",
    "for i in range(0,broj_estimacija_varijansi):\n",
    "    intervali_poverenja.append(((velicina_uzorka-1)*estimatori_varijanse[i]/Kvantil1, (velicina_uzorka-1)*estimatori_varijanse[i]/Kvantil2))\n",
    "    \n",
    "#crtanje intervala poverenja:\n",
    "plt.figure(figsize=(9,9))\n",
    "\n",
    "#crtamo intervale pomocu plt.errorbar:\n",
    "plt.errorbar(x=np.arange(0, broj_estimacija_varijansi), \n",
    "             y=estimatori_varijanse[0:broj_estimacija_varijansi], \n",
    "             yerr=np.stack((estimatori_varijanse-np.array(intervali_poverenja)[:,0], np.array(intervali_poverenja)[:,1]-estimatori_varijanse)),\n",
    "             fmt='o')\n",
    "\n",
    "plt.hlines(xmin=0, xmax=broj_estimacija_varijansi,\n",
    "           y=df.var()['SpAtk'], \n",
    "           linewidth=2.0,\n",
    "           color=\"red\")\n",
    "\n",
    "plt.show()"
   ]
  },
  {
   "cell_type": "code",
   "execution_count": 25,
   "metadata": {},
   "outputs": [
    {
     "data": {
      "text/plain": [
       "64.0"
      ]
     },
     "execution_count": 25,
     "metadata": {},
     "output_type": "execute_result"
    }
   ],
   "source": [
    "#estimacija srednje vrednosti i intervala poverenja\n",
    "\n",
    "#izracunavamo matematicko ocekivanje iz uzorka\n",
    "uzorak=df.sample(10)\n",
    "uzorak.values.mean()"
   ]
  },
  {
   "cell_type": "code",
   "execution_count": 26,
   "metadata": {},
   "outputs": [
    {
     "data": {
      "image/png": "[encoded data removed]",
      "text/plain": [
       "<Figure size 432x288 with 1 Axes>"
      ]
     },
     "metadata": {
      "needs_background": "light"
     },
     "output_type": "display_data"
    },
    {
     "data": {
      "image/png": "[encoded data removed]",
      "text/plain": [
       "<Figure size 432x288 with 1 Axes>"
      ]
     },
     "metadata": {
      "needs_background": "light"
     },
     "output_type": "display_data"
    }
   ],
   "source": [
    "#hocemo da estimiramo srednju vrednost uzimajuci samo manji uzorak iz cele populacije:\n",
    "estimatori_srednje_vrednosti = []       \n",
    "\n",
    "velicina_uzorka=50\n",
    "broj_estimacija_srednjih_vrednosti=25   #generisemo 50 samples\n",
    "for x in range(broj_estimacija_srednjih_vrednosti):\n",
    "    \n",
    "    uzorak=df.sample(velicina_uzorka)\n",
    "    estimatori_srednje_vrednosti.append(uzorak.values.mean() )\n",
    "    \n",
    "# plotujemo estimaciju gustine verovatnoce raspodele srednjih vrednosti (pomocu histograma)\n",
    "pd.DataFrame(estimatori_srednje_vrednosti).plot(kind=\"density\")   \n",
    "\n",
    "# histogram srednjih vrednosti:\n",
    "hist = pd.DataFrame(estimatori_srednje_vrednosti).hist(density=True,bins=7) \n",
    "plt.show()"
   ]
  },
  {
   "cell_type": "code",
   "execution_count": 27,
   "metadata": {},
   "outputs": [
    {
     "name": "stdout",
     "output_type": "stream",
     "text": [
      "70.48\n",
      "(62.57086881254443, 78.38913118745558)\n"
     ]
    }
   ],
   "source": [
    "# interval poverenja za ocenu srednje vrednosti:\n",
    "\n",
    "std=df.std()['SpAtk']\n",
    "\n",
    "alpha=0.05   # nivo poverenja je 1-alpha=0.95\n",
    "\n",
    "print(estimatori_srednje_vrednosti[0])  # stampamo estimranu vrednost\n",
    "\n",
    "#svodjenje na Z-raspodelu (N(0,1))\n",
    "red_kvantila=1-alpha/2\n",
    "Kvantil = stats.norm.ppf(red_kvantila)  # Kvantil odgovarajuceg reda Z raspodele (normalna (0,1) raspodela)\n",
    "                  \n",
    "margina = Kvantil * (std/velicina_uzorka**0.5)\n",
    "\n",
    "interval_poverenja = (estimatori_srednje_vrednosti[0] - margina, estimatori_srednje_vrednosti[0] + margina)  \n",
    "print(interval_poverenja)"
   ]
  },
  {
   "cell_type": "code",
   "execution_count": 28,
   "metadata": {},
   "outputs": [
    {
     "data": {
      "image/png": "[encoded data removed]",
      "text/plain": [
       "<Figure size 648x648 with 1 Axes>"
      ]
     },
     "metadata": {
      "needs_background": "light"
     },
     "output_type": "display_data"
    }
   ],
   "source": [
    "# crtanje svih intervala poverenja:\n",
    "\n",
    "intervali_poverenja=[]\n",
    "for i in range(0,broj_estimacija_srednjih_vrednosti):\n",
    "    intervali_poverenja.append((estimatori_srednje_vrednosti[i] - margina, estimatori_srednje_vrednosti[i] + margina))\n",
    "    \n",
    "# crtanje intervala poverenja:\n",
    "plt.figure(figsize=(9,9))\n",
    "\n",
    "# crtamo intervale pomocu plt.errorbar:\n",
    "plt.errorbar(x=np.arange(0, broj_estimacija_srednjih_vrednosti), \n",
    "             y=estimatori_srednje_vrednosti[0:broj_estimacija_srednjih_vrednosti], \n",
    "            yerr=np.stack((estimatori_srednje_vrednosti-np.array(intervali_poverenja)[:,0], np.array(intervali_poverenja)[:,1]-estimatori_srednje_vrednosti)),\n",
    "             fmt='o')\n",
    "\n",
    "plt.hlines(xmin=0, xmax=broj_estimacija_srednjih_vrednosti,\n",
    "           y=df.mean()['SpAtk'], \n",
    "           linewidth=2.0,\n",
    "           color=\"orange\")\n",
    "\n",
    "plt.show()"
   ]
  },
  {
   "cell_type": "code",
   "execution_count": 29,
   "metadata": {},
   "outputs": [
    {
     "data": {
      "text/plain": [
       "KstestResult(statistic=0.21850684394363423, pvalue=0.15788781760849468)"
      ]
     },
     "execution_count": 29,
     "metadata": {},
     "output_type": "execute_result"
    }
   ],
   "source": [
    "#testiracemo da li estimatori srednje vrednosti imaju normalnu raspodelu: (Kolmogorov-Smirnova raspodela)\n",
    "\n",
    "#u args stavljamo matematicko ocekivanje i standardne devijacije\n",
    "stats.kstest(estimatori_srednje_vrednosti, cdf='norm',args=(df.dropna().values.mean(), df.dropna().values.std()/velicina_uzorka**0.5))"
   ]
  },
  {
   "cell_type": "code",
   "execution_count": 30,
   "metadata": {},
   "outputs": [
    {
     "data": {
      "text/plain": [
       "Power_divergenceResult(statistic=3.0199819403562667, pvalue=0.9999999267713751)"
      ]
     },
     "execution_count": 30,
     "metadata": {},
     "output_type": "execute_result"
    }
   ],
   "source": [
    "#test hipoteza - hi^2 gleda se da li je uniformna raspodela\n",
    "stats.chisquare(estimatori_srednje_vrednosti)"
   ]
  },
  {
   "cell_type": "code",
   "execution_count": 31,
   "metadata": {},
   "outputs": [
    {
     "name": "stdout",
     "output_type": "stream",
     "text": [
      "(66.30888712198933, 67.25111287801067)\n",
      "66.78\n"
     ]
    }
   ],
   "source": [
    "#parametarska hipoteza\n",
    "\n",
    "param_hipoteza = np.std(estimatori_srednje_vrednosti, ddof=1)\n",
    "\n",
    "interval_pover = stats.t.interval(1-alpha, df=len(df[\"SpAtk\"])-1, loc=uzorak.values.mean(), scale=param_hipoteza/len(df[\"SpAtk\"])**0.5)\n",
    "print(interval_pover)\n",
    "print(uzorak.values.mean())"
   ]
  },
  {
   "cell_type": "code",
   "execution_count": null,
   "metadata": {},
   "outputs": [],
   "source": []
  }
 ],
 "metadata": {
  "kernelspec": {
   "display_name": "Python 3",
   "language": "python",
   "name": "python3"
  },
  "language_info": {
   "codemirror_mode": {
    "name": "ipython",
    "version": 3
   },
   "file_extension": ".py",
   "mimetype": "text/x-python",
   "name": "python",
   "nbconvert_exporter": "python",
   "pygments_lexer": "ipython3",
   "version": "3.8.3"
  }
 },
 "nbformat": 4,
 "nbformat_minor": 4
}
